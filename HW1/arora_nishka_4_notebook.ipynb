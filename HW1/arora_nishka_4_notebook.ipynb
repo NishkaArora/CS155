{
  "cells": [
    {
      "cell_type": "markdown",
      "metadata": {
        "id": "view-in-github",
        "colab_type": "text"
      },
      "source": [
        "<a href=\"https://colab.research.google.com/github/NishkaArora/CS155/blob/main/HW1/arora_nishka_4_notebook.ipynb\" target=\"_parent\"><img src=\"https://colab.research.google.com/assets/colab-badge.svg\" alt=\"Open In Colab\"/></a>"
      ]
    },
    {
      "cell_type": "markdown",
      "source": [
        "[![Open In Colab](https://colab.research.google.com/assets/colab-badge.svg)](https://colab.research.google.com/github/charlesincharge/Caltech-CS155-2022/blob/main/sets/set1/4_notebook.ipynb)"
      ],
      "metadata": {
        "id": "b9T008hSrS4g"
      }
    },
    {
      "cell_type": "markdown",
      "metadata": {
        "id": "4ALpffMQqzTp"
      },
      "source": [
        "# Problem 4"
      ]
    },
    {
      "cell_type": "markdown",
      "metadata": {
        "id": "45Qc65tGqzTs"
      },
      "source": [
        "Use this notebook to write your code for problem 4 by filling in the sections marked `# TODO` and running all cells."
      ]
    },
    {
      "cell_type": "code",
      "execution_count": null,
      "metadata": {
        "collapsed": true,
        "id": "C24BbGjEqzTt"
      },
      "outputs": [],
      "source": [
        "import numpy as np\n",
        "import matplotlib.pyplot as plt\n",
        "import itertools\n",
        "\n",
        "import urllib.request\n",
        "urllib.request.urlretrieve('https://raw.githubusercontent.com/charlesincharge/Caltech-CS155-2022/main/sets/set1/perceptron_helper.py', 'perceptron_helper.py')\n",
        "\n",
        "\n",
        "from perceptron_helper import (\n",
        "    predict,\n",
        "    plot_data,\n",
        "    boundary,\n",
        "    plot_perceptron,\n",
        ")\n",
        "\n",
        "%matplotlib inline"
      ]
    },
    {
      "cell_type": "markdown",
      "metadata": {
        "id": "SIkhdeZqqzTu"
      },
      "source": [
        "## Implementation of Perceptron"
      ]
    },
    {
      "cell_type": "markdown",
      "metadata": {
        "id": "5973drXAqzTv"
      },
      "source": [
        "First, we will implement the perceptron algorithm. Fill in the `update_perceptron()` function so that it finds a single misclassified point and updates the weights and bias accordingly. If no point exists, the weights and bias should not change.\n",
        "\n",
        "Hint: You can use the `predict()` helper method, which labels a point 1 or -1 depending on the weights and bias."
      ]
    },
    {
      "cell_type": "code",
      "execution_count": null,
      "metadata": {
        "collapsed": true,
        "id": "Y8NoAG9HqzTv"
      },
      "outputs": [],
      "source": [
        "def update_perceptron(X, Y, w, b):\n",
        "    \"\"\"\n",
        "    This method updates a perceptron model. Takes in the previous weights\n",
        "    and returns weights after an update, which could be nothing.\n",
        "    \n",
        "    Inputs:\n",
        "        X: A (N, D) shaped numpy array containing a single point.\n",
        "        Y: A (N, ) shaped numpy array containing the labels for the points.\n",
        "        w: A (D, ) shaped numpy array containing the weight vector.\n",
        "        b: A float containing the bias term.\n",
        "    \n",
        "    Output:\n",
        "        next_w: A (D, ) shaped numpy array containing the next weight vector\n",
        "                after updating on a single misclassified point, if one exists.\n",
        "        next_b: The next float bias term after updating on a single\n",
        "                misclassified point, if one exists.\n",
        "        misclassified: The misclassified point used to update perceptron.\n",
        "    \"\"\"\n",
        "    next_w, next_b = np.copy(w), np.copy(b)\n",
        "    misclassified = None\n",
        "    \n",
        "    #==============================================\n",
        "    # TODO: Implement update rule for perceptron.\n",
        "    #===============================================\n",
        "    \n",
        "    for loc in range(len(Y)):\n",
        "      if predict(X[loc], next_w, next_b) != Y[loc]:\n",
        "        misclassified = (X[loc], Y[loc])\n",
        "        next_w = np.copy(w) + Y[loc] * X[loc]\n",
        "        next_b = np.copy(b) + Y[loc]\n",
        "        return next_w, next_b, misclassified\n",
        "    return next_w, next_b, -1"
      ]
    },
    {
      "cell_type": "markdown",
      "metadata": {
        "id": "DlXK7ip4qzTw"
      },
      "source": [
        "Next you will fill in the `run_perceptron()` method. The method performs single updates on a misclassified point until convergence, or max_iter updates are made. The function will return the final weights and bias. You should use the `update_perceptron()` method you implemented above."
      ]
    },
    {
      "cell_type": "code",
      "execution_count": null,
      "metadata": {
        "collapsed": true,
        "id": "evL6q3TFqzTw"
      },
      "outputs": [],
      "source": [
        "def run_perceptron(X, Y, w, b, max_iter):\n",
        "    \"\"\"\n",
        "    This method runs the perceptron learning algorithm. Takes in initial weights\n",
        "    and runs max_iter update iterations. Returns final weights and bias.\n",
        "    \n",
        "    Inputs:\n",
        "        X: A (N, D) shaped numpy array containing a single point.\n",
        "        Y: A (N, ) shaped numpy array containing the labels for the points.\n",
        "        w: A (D, ) shaped numpy array containing the initial weight vector.\n",
        "        b: A float containing the initial bias term.\n",
        "        max_iter: An int for the maximum number of updates evaluated.\n",
        "        \n",
        "    Output:\n",
        "        w: A (D, ) shaped numpy array containing the final weight vector.\n",
        "        b: The final float bias term.\n",
        "    \"\"\"\n",
        "    \n",
        "    #============================================\n",
        "    # TODO: Implement perceptron update loop.\n",
        "    #=============================================\n",
        "    iter = 0\n",
        "    print(\"t    b   w1    w2    x1    x2    y\")\n",
        "    print()\n",
        "    while(True):\n",
        "      if iter > max_iter:\n",
        "        break\n",
        "      \n",
        "      new_w, new_b, misc = update_perceptron(X, Y, w, b)\n",
        "      if misc != -1:\n",
        "        print(str(iter) + '   ' + str(b) + '   ' + str(w[0]) + '   ' + str(w[1]) + '   ' + str(misc[0][0]) + '   ' + str(misc[0][1]) + '   ' + str(misc[1]))\n",
        "      else:\n",
        "        print(str(iter) + '   ' + str(b) + '   ' + str(w[0]) + '   ' + str(w[1]))\n",
        "        break\n",
        "      w = np.copy(new_w)\n",
        "      b = np.copy(new_b)\n",
        "      iter+=1\n",
        "    return w, b\n"
      ]
    },
    {
      "cell_type": "markdown",
      "metadata": {
        "id": "bTQaUVJkqzTx"
      },
      "source": [
        "# Problem 4A"
      ]
    },
    {
      "cell_type": "markdown",
      "metadata": {
        "id": "R5iZpojjqzTy"
      },
      "source": [
        "## Visualizing a Toy Dataset"
      ]
    },
    {
      "cell_type": "markdown",
      "metadata": {
        "id": "p5nSahGSqzTy"
      },
      "source": [
        "We will begin by training our perceptron on a toy dataset of 3 points. The green points are labelled +1 and the red points are labelled -1. We use the helper function `plot_data()` to do so."
      ]
    },
    {
      "cell_type": "code",
      "execution_count": null,
      "metadata": {
        "collapsed": true,
        "id": "ybU9b-kOqzTy"
      },
      "outputs": [],
      "source": [
        "X = np.array([[ -3, -1], [0, 3], [1, -2]])\n",
        "Y = np.array([ -1, 1, 1])"
      ]
    },
    {
      "cell_type": "code",
      "execution_count": null,
      "metadata": {
        "collapsed": true,
        "id": "Db07hBxkqzTz",
        "colab": {
          "base_uri": "https://localhost:8080/",
          "height": 266
        },
        "outputId": "34d56994-6539-4dde-dfe5-343cf686892c"
      },
      "outputs": [
        {
          "output_type": "display_data",
          "data": {
            "image/png": "[encoded data removed]",
            "text/plain": [
              "<Figure size 360x288 with 1 Axes>"
            ]
          },
          "metadata": {
            "needs_background": "light"
          }
        }
      ],
      "source": [
        "fig = plt.figure(figsize=(5,4))\n",
        "ax = fig.gca(); ax.set_xlim(-4.1, 3.1); ax.set_ylim(-3.1, 4.1)\n",
        "plot_data(X, Y, ax)"
      ]
    },
    {
      "cell_type": "markdown",
      "metadata": {
        "id": "OwzOhknIqzTz"
      },
      "source": [
        "## Running the Perceptron"
      ]
    },
    {
      "cell_type": "markdown",
      "metadata": {
        "id": "rCdGYyOWqzTz"
      },
      "source": [
        "Next, we will run the perceptron learning algorithm on this dataset. Update the code to show the weights and bias at each timestep and the misclassified point used in each update.  "
      ]
    },
    {
      "cell_type": "markdown",
      "metadata": {
        "id": "BeGxFa9dqzTz"
      },
      "source": [
        "Run the below code, and fill in the corresponding table in the set."
      ]
    },
    {
      "cell_type": "code",
      "execution_count": null,
      "metadata": {
        "collapsed": true,
        "id": "nsaiLYGAqzT0",
        "colab": {
          "base_uri": "https://localhost:8080/"
        },
        "outputId": "31a04fe5-d0d6-4b26-806e-b44291d361e8"
      },
      "outputs": [
        {
          "output_type": "stream",
          "name": "stdout",
          "text": [
            "t    b   w1    w2    x1    x2    y\n",
            "\n",
            "0   0.0   0.0   1.0   1   -2   1\n",
            "1   1.0   1.0   -1.0   0   3   1\n",
            "2   2.0   1.0   2.0   1   -2   1\n",
            "3   3.0   2.0   0.0\n",
            "\n",
            "final w = [2. 0.], final b = 3.0\n"
          ]
        }
      ],
      "source": [
        "# Initialize weights and bias.\n",
        "weights = np.array([0.0, 1.0])\n",
        "bias = 0.0\n",
        "\n",
        "weights, bias = run_perceptron(X, Y, weights, bias, 16)\n",
        "\n",
        "print()\n",
        "print (\"final w = %s, final b = %.1f\" % (weights, bias))"
      ]
    },
    {
      "cell_type": "markdown",
      "metadata": {
        "id": "LbaFhPi-qzT0"
      },
      "source": [
        "## Visualizating the Perceptron"
      ]
    },
    {
      "cell_type": "markdown",
      "metadata": {
        "id": "Et1FmFCfqzT0"
      },
      "source": [
        "Getting all that information in table form isn't very informative. Let us visualize what the decision boundaries are at each timestep instead."
      ]
    },
    {
      "cell_type": "markdown",
      "metadata": {
        "id": "0Iz0K0xLqzT0"
      },
      "source": [
        "The helper functions `boundary()` and `plot_perceptron()` plot a decision boundary given a perceptron weights and bias. Note that the equation for the decision boundary is given by:\n",
        "\n",
        "$$w_1x_1 + w_2x_2 + b = 0.$$ \n",
        "\n",
        "Using some algebra, we can obtain $x_2$ from $x_1$ to plot the boundary as a line. \n",
        "\n",
        "$$x_2 = \\frac{-w_1x_1 - b}{w_2}. $$"
      ]
    },
    {
      "cell_type": "markdown",
      "metadata": {
        "id": "Wf2LwVqsqzT0"
      },
      "source": [
        "Below is a redefinition of the `run_perceptron()` method to visualize the points and decision boundaries at each timestep instead of printing.  Fill in the method using your previous `run_perceptron()` method, and the above helper methods.\n",
        "\n",
        "Hint: The axs element is a list of Axes, which are used as subplots for each timestep. You can  do the following:\n",
        "```\n",
        "ax = axs[i]\n",
        "```\n",
        "to get the plot correponding to $t = i$. You can then use ax.set_title() to title each subplot. You will want to use the `plot_data()` and `plot_perceptron()` helper methods."
      ]
    },
    {
      "cell_type": "code",
      "execution_count": null,
      "metadata": {
        "collapsed": true,
        "id": "kyorEv3cqzT1"
      },
      "outputs": [],
      "source": [
        "def run_perceptron(X, Y, w, b, axs, max_iter):\n",
        "    \"\"\"\n",
        "    This method runs the perceptron learning algorithm and plots data, weight, and bias at each timestep. \n",
        "    Takes in initial weights and runs max_iter update iterations. Returns final weights and bias.\n",
        "    \n",
        "    Inputs:\n",
        "        X: A (N, D) shaped numpy array containing a single point.\n",
        "        Y: A (N, ) shaped numpy array containing the labels for the points.\n",
        "        w: A (D, ) shaped numpy array containing the initial weight vector.\n",
        "        b: A float containing the initial bias term.\n",
        "        axs: A list of Axes that contain suplots for each timestep. \n",
        "        max_iter: An int for the maximum number of updates evaluated.\n",
        "        \n",
        "    Output:\n",
        "        The final weight and bias vectors.\n",
        "    \"\"\"\n",
        "    \n",
        "    #============================================\n",
        "    # TODO: Implement perceptron update loop.\n",
        "    #=============================================\n",
        "    iter = 0\n",
        "    print(\"t    b   w1    w2    x1    x2    y\")\n",
        "    print()\n",
        "    while(True):\n",
        "      if iter > max_iter:\n",
        "        break\n",
        "      \n",
        "      new_w, new_b, misc = update_perceptron(X, Y, w, b)\n",
        "      if misc != -1:\n",
        "        print(str(iter) + '   ' + str(b) + '   ' + str(w[0]) + '   ' + str(w[1]) + '   ' + str(misc[0][0]) + '   ' + str(misc[0][1]) + '   ' + str(misc[1]))\n",
        "        ax = axs[iter]\n",
        "        ax.set_title(\"Plot for iter#\" + str(iter))\n",
        "        plot_data(X, Y, ax)\n",
        "        plot_perceptron(w, b, ax)\n",
        "      else:\n",
        "        print(str(iter) + '   ' + str(b) + '   ' + str(w[0]) + '   ' + str(w[1]))\n",
        "        ax = axs[iter]\n",
        "        ax.set_title(\"Plot for iter#\" + str(iter))\n",
        "        ax.set_title(\"Plot for iter#\" + str(iter))\n",
        "        plot_data(X, Y, ax)\n",
        "        plot_perceptron(w, b, ax)\n",
        "        break\n",
        "      w = np.copy(new_w)\n",
        "      b = np.copy(new_b)\n",
        "      iter+=1\n",
        "    return w, b"
      ]
    },
    {
      "cell_type": "markdown",
      "metadata": {
        "id": "khI8StjwqzT1"
      },
      "source": [
        "Run the below code to get a visualization of the perceptron algorithm. The red region are areas the perceptron thinks are negative examples."
      ]
    },
    {
      "cell_type": "code",
      "execution_count": null,
      "metadata": {
        "collapsed": true,
        "id": "Kbn8QE-7qzT1",
        "colab": {
          "base_uri": "https://localhost:8080/",
          "height": 687
        },
        "outputId": "bccaf0a2-bb98-4674-acba-2b067c4621a9"
      },
      "outputs": [
        {
          "output_type": "stream",
          "name": "stdout",
          "text": [
            "t    b   w1    w2    x1    x2    y\n",
            "\n",
            "0   0.0   0.0   1.0   1   -2   1\n",
            "1   1.0   1.0   -1.0   0   3   1\n",
            "2   2.0   1.0   2.0   1   -2   1\n",
            "3   3.0   2.0   0.0\n"
          ]
        },
        {
          "output_type": "display_data",
          "data": {
            "image/png": "[encoded data removed]",
            "text/plain": [
              "<Figure size 648x576 with 4 Axes>"
            ]
          },
          "metadata": {
            "needs_background": "light"
          }
        }
      ],
      "source": [
        "# Initialize weights and bias.\n",
        "weights = np.array([0.0, 1.0])\n",
        "bias = 0.0\n",
        "\n",
        "f, ax_arr = plt.subplots(2, 2, sharex=True, sharey=True, figsize=(9,8))\n",
        "axs = list(itertools.chain.from_iterable(ax_arr))\n",
        "for ax in axs:\n",
        "    ax.set_xlim(-4.1, 3.1); ax.set_ylim(-3.1, 4.1)\n",
        "\n",
        "run_perceptron(X, Y, weights, bias, axs, 4)\n",
        "\n",
        "f.tight_layout()"
      ]
    },
    {
      "cell_type": "markdown",
      "metadata": {
        "id": "eIeIOhzXqzT1"
      },
      "source": [
        "# Problem 4C"
      ]
    },
    {
      "cell_type": "markdown",
      "metadata": {
        "id": "ygr26jhMqzT1"
      },
      "source": [
        "## Visualize a Non-linearly Separable Dataset."
      ]
    },
    {
      "cell_type": "markdown",
      "metadata": {
        "id": "aTSnPwM-qzT1"
      },
      "source": [
        "We will now work on a dataset that cannot be linearly separated, namely one that is generated by the XOR function."
      ]
    },
    {
      "cell_type": "code",
      "execution_count": null,
      "metadata": {
        "collapsed": true,
        "id": "GhQ4NvEQqzT2"
      },
      "outputs": [],
      "source": [
        "X = np.array([[0, 1], [1, 0], [0, 0], [1, 1]])\n",
        "Y = np.array([1, 1, -1, -1])"
      ]
    },
    {
      "cell_type": "code",
      "execution_count": null,
      "metadata": {
        "collapsed": true,
        "id": "Yp3TGvZbqzT2",
        "colab": {
          "base_uri": "https://localhost:8080/",
          "height": 265
        },
        "outputId": "1ad31224-0a97-4041-c5ed-81c5421ca576"
      },
      "outputs": [
        {
          "output_type": "display_data",
          "data": {
            "image/png": "[encoded data removed]",
            "text/plain": [
              "<Figure size 360x288 with 1 Axes>"
            ]
          },
          "metadata": {
            "needs_background": "light"
          }
        }
      ],
      "source": [
        "fig = plt.figure(figsize=(5,4))\n",
        "ax = fig.gca(); ax.set_xlim(-0.1, 1.1); ax.set_ylim(-0.1, 1.1)\n",
        "plot_data(X, Y, ax)"
      ]
    },
    {
      "cell_type": "markdown",
      "metadata": {
        "id": "FrjnloCEqzT2"
      },
      "source": [
        "We will now run the perceptron algorithm on this dataset. We will limit the total timesteps this time, but you should see a pattern in the updates. Run the below code."
      ]
    },
    {
      "cell_type": "code",
      "execution_count": null,
      "metadata": {
        "collapsed": true,
        "id": "qcqXP3JHqzT2",
        "colab": {
          "base_uri": "https://localhost:8080/",
          "height": 1000
        },
        "outputId": "18424a12-473b-405d-c5be-ddf0fba552ee"
      },
      "outputs": [
        {
          "output_type": "stream",
          "name": "stdout",
          "text": [
            "t    b   w1    w2    x1    x2    y\n",
            "\n",
            "0   0.0   0.0   1.0   0   0   -1\n",
            "1   -1.0   0.0   1.0   1   0   1\n",
            "2   0.0   1.0   1.0   0   0   -1\n",
            "3   -1.0   1.0   1.0   1   1   -1\n",
            "4   -2.0   0.0   0.0   0   1   1\n",
            "5   -1.0   0.0   1.0   1   0   1\n",
            "6   0.0   1.0   1.0   0   0   -1\n",
            "7   -1.0   1.0   1.0   1   1   -1\n",
            "8   -2.0   0.0   0.0   0   1   1\n",
            "9   -1.0   0.0   1.0   1   0   1\n",
            "10   0.0   1.0   1.0   0   0   -1\n",
            "11   -1.0   1.0   1.0   1   1   -1\n",
            "12   -2.0   0.0   0.0   0   1   1\n",
            "13   -1.0   0.0   1.0   1   0   1\n",
            "14   0.0   1.0   1.0   0   0   -1\n",
            "15   -1.0   1.0   1.0   1   1   -1\n",
            "16   -2.0   0.0   0.0   0   1   1\n"
          ]
        },
        {
          "output_type": "error",
          "ename": "IndexError",
          "evalue": "ignored",
          "traceback": [
            "\u001b[0;31m---------------------------------------------------------------------------\u001b[0m",
            "\u001b[0;31mIndexError\u001b[0m                                Traceback (most recent call last)",
            "\u001b[0;32m<ipython-input-65-a9423b257e09>\u001b[0m in \u001b[0;36m<module>\u001b[0;34m()\u001b[0m\n\u001b[1;32m      8\u001b[0m     \u001b[0max\u001b[0m\u001b[0;34m.\u001b[0m\u001b[0mset_xlim\u001b[0m\u001b[0;34m(\u001b[0m\u001b[0;34m-\u001b[0m\u001b[0;36m0.1\u001b[0m\u001b[0;34m,\u001b[0m \u001b[0;36m1.1\u001b[0m\u001b[0;34m)\u001b[0m\u001b[0;34m;\u001b[0m \u001b[0max\u001b[0m\u001b[0;34m.\u001b[0m\u001b[0mset_ylim\u001b[0m\u001b[0;34m(\u001b[0m\u001b[0;34m-\u001b[0m\u001b[0;36m0.1\u001b[0m\u001b[0;34m,\u001b[0m \u001b[0;36m1.1\u001b[0m\u001b[0;34m)\u001b[0m\u001b[0;34m\u001b[0m\u001b[0;34m\u001b[0m\u001b[0m\n\u001b[1;32m      9\u001b[0m \u001b[0;34m\u001b[0m\u001b[0m\n\u001b[0;32m---> 10\u001b[0;31m \u001b[0mrun_perceptron\u001b[0m\u001b[0;34m(\u001b[0m\u001b[0mX\u001b[0m\u001b[0;34m,\u001b[0m \u001b[0mY\u001b[0m\u001b[0;34m,\u001b[0m \u001b[0mweights\u001b[0m\u001b[0;34m,\u001b[0m \u001b[0mbias\u001b[0m\u001b[0;34m,\u001b[0m \u001b[0maxs\u001b[0m\u001b[0;34m,\u001b[0m \u001b[0;36m16\u001b[0m\u001b[0;34m)\u001b[0m\u001b[0;34m\u001b[0m\u001b[0;34m\u001b[0m\u001b[0m\n\u001b[0m\u001b[1;32m     11\u001b[0m \u001b[0;34m\u001b[0m\u001b[0m\n\u001b[1;32m     12\u001b[0m \u001b[0mf\u001b[0m\u001b[0;34m.\u001b[0m\u001b[0mtight_layout\u001b[0m\u001b[0;34m(\u001b[0m\u001b[0;34m)\u001b[0m\u001b[0;34m\u001b[0m\u001b[0;34m\u001b[0m\u001b[0m\n",
            "\u001b[0;32m<ipython-input-58-77f77ebc9e9c>\u001b[0m in \u001b[0;36mrun_perceptron\u001b[0;34m(X, Y, w, b, axs, max_iter)\u001b[0m\n\u001b[1;32m     29\u001b[0m       \u001b[0;32mif\u001b[0m \u001b[0mmisc\u001b[0m \u001b[0;34m!=\u001b[0m \u001b[0;34m-\u001b[0m\u001b[0;36m1\u001b[0m\u001b[0;34m:\u001b[0m\u001b[0;34m\u001b[0m\u001b[0;34m\u001b[0m\u001b[0m\n\u001b[1;32m     30\u001b[0m         \u001b[0mprint\u001b[0m\u001b[0;34m(\u001b[0m\u001b[0mstr\u001b[0m\u001b[0;34m(\u001b[0m\u001b[0miter\u001b[0m\u001b[0;34m)\u001b[0m \u001b[0;34m+\u001b[0m \u001b[0;34m'   '\u001b[0m \u001b[0;34m+\u001b[0m \u001b[0mstr\u001b[0m\u001b[0;34m(\u001b[0m\u001b[0mb\u001b[0m\u001b[0;34m)\u001b[0m \u001b[0;34m+\u001b[0m \u001b[0;34m'   '\u001b[0m \u001b[0;34m+\u001b[0m \u001b[0mstr\u001b[0m\u001b[0;34m(\u001b[0m\u001b[0mw\u001b[0m\u001b[0;34m[\u001b[0m\u001b[0;36m0\u001b[0m\u001b[0;34m]\u001b[0m\u001b[0;34m)\u001b[0m \u001b[0;34m+\u001b[0m \u001b[0;34m'   '\u001b[0m \u001b[0;34m+\u001b[0m \u001b[0mstr\u001b[0m\u001b[0;34m(\u001b[0m\u001b[0mw\u001b[0m\u001b[0;34m[\u001b[0m\u001b[0;36m1\u001b[0m\u001b[0;34m]\u001b[0m\u001b[0;34m)\u001b[0m \u001b[0;34m+\u001b[0m \u001b[0;34m'   '\u001b[0m \u001b[0;34m+\u001b[0m \u001b[0mstr\u001b[0m\u001b[0;34m(\u001b[0m\u001b[0mmisc\u001b[0m\u001b[0;34m[\u001b[0m\u001b[0;36m0\u001b[0m\u001b[0;34m]\u001b[0m\u001b[0;34m[\u001b[0m\u001b[0;36m0\u001b[0m\u001b[0;34m]\u001b[0m\u001b[0;34m)\u001b[0m \u001b[0;34m+\u001b[0m \u001b[0;34m'   '\u001b[0m \u001b[0;34m+\u001b[0m \u001b[0mstr\u001b[0m\u001b[0;34m(\u001b[0m\u001b[0mmisc\u001b[0m\u001b[0;34m[\u001b[0m\u001b[0;36m0\u001b[0m\u001b[0;34m]\u001b[0m\u001b[0;34m[\u001b[0m\u001b[0;36m1\u001b[0m\u001b[0;34m]\u001b[0m\u001b[0;34m)\u001b[0m \u001b[0;34m+\u001b[0m \u001b[0;34m'   '\u001b[0m \u001b[0;34m+\u001b[0m \u001b[0mstr\u001b[0m\u001b[0;34m(\u001b[0m\u001b[0mmisc\u001b[0m\u001b[0;34m[\u001b[0m\u001b[0;36m1\u001b[0m\u001b[0;34m]\u001b[0m\u001b[0;34m)\u001b[0m\u001b[0;34m)\u001b[0m\u001b[0;34m\u001b[0m\u001b[0;34m\u001b[0m\u001b[0m\n\u001b[0;32m---> 31\u001b[0;31m         \u001b[0max\u001b[0m \u001b[0;34m=\u001b[0m \u001b[0maxs\u001b[0m\u001b[0;34m[\u001b[0m\u001b[0miter\u001b[0m\u001b[0;34m]\u001b[0m\u001b[0;34m\u001b[0m\u001b[0;34m\u001b[0m\u001b[0m\n\u001b[0m\u001b[1;32m     32\u001b[0m         \u001b[0max\u001b[0m\u001b[0;34m.\u001b[0m\u001b[0mset_title\u001b[0m\u001b[0;34m(\u001b[0m\u001b[0;34m\"Plot for iter#\"\u001b[0m \u001b[0;34m+\u001b[0m \u001b[0mstr\u001b[0m\u001b[0;34m(\u001b[0m\u001b[0miter\u001b[0m\u001b[0;34m)\u001b[0m\u001b[0;34m)\u001b[0m\u001b[0;34m\u001b[0m\u001b[0;34m\u001b[0m\u001b[0m\n\u001b[1;32m     33\u001b[0m         \u001b[0mplot_data\u001b[0m\u001b[0;34m(\u001b[0m\u001b[0mX\u001b[0m\u001b[0;34m,\u001b[0m \u001b[0mY\u001b[0m\u001b[0;34m,\u001b[0m \u001b[0max\u001b[0m\u001b[0;34m)\u001b[0m\u001b[0;34m\u001b[0m\u001b[0;34m\u001b[0m\u001b[0m\n",
            "\u001b[0;31mIndexError\u001b[0m: list index out of range"
          ]
        },
        {
          "output_type": "display_data",
          "data": {
            "image/png": "[encoded data removed]",
            "text/plain": [
              "<Figure size 648x576 with 16 Axes>"
            ]
          },
          "metadata": {
            "needs_background": "light"
          }
        }
      ],
      "source": [
        "# Initialize weights and bias.\n",
        "weights = np.array([0.0, 1.0])\n",
        "bias = 0.0\n",
        "\n",
        "f, ax_arr = plt.subplots(4, 4, sharex=True, sharey=True, figsize=(9,8))\n",
        "axs = list(itertools.chain.from_iterable(ax_arr))\n",
        "for ax in axs:\n",
        "    ax.set_xlim(-0.1, 1.1); ax.set_ylim(-0.1, 1.1)\n",
        "    \n",
        "run_perceptron(X, Y, weights, bias, axs, 16)\n",
        "\n",
        "f.tight_layout()"
      ]
    }
  ],
  "metadata": {
    "anaconda-cloud": {},
    "kernelspec": {
      "display_name": "Python [python3point5]",
      "language": "python",
      "name": "Python [python3point5]"
    },
    "language_info": {
      "codemirror_mode": {
        "name": "ipython",
        "version": 3
      },
      "file_extension": ".py",
      "mimetype": "text/x-python",
      "name": "python",
      "nbconvert_exporter": "python",
      "pygments_lexer": "ipython3",
      "version": "3.5.2"
    },
    "colab": {
      "name": "arora_nishka_4_notebook.ipynb",
      "provenance": [],
      "include_colab_link": true
    }
  },
  "nbformat": 4,
  "nbformat_minor": 0
}